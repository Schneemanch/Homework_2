{
 "cells": [
  {
   "cell_type": "markdown",
   "metadata": {},
   "source": [
    "# Homework 2 (Due Sep. 27) \n",
    "Problems marked with a (\\*) are only required for graduate students.  Undergrads may undertake them for extra credit worth half the problems point value, with no penalties incurred for an incorrect answer."
   ]
  },
  {
   "cell_type": "markdown",
   "metadata": {},
   "source": [
    "## 1. Bayesian Networks/Conditional Probability"
   ]
  },
  {
   "cell_type": "markdown",
   "metadata": {},
   "source": [
    "Consider three binary variables $a, b, c \\in \\{0, 1\\}$ having the joint distribution given by  "
   ]
  },
  {
   "cell_type": "code",
   "execution_count": 13,
   "metadata": {},
   "outputs": [],
   "source": [
    "import numpy as np\n",
    "#        | a | b | c | P(a,b,c)\n",
    "P_table = (\n",
    "np.array([[0,  0,  0,  0.192 ],\n",
    "          [0,  0,  1,  0.144 ],\n",
    "          [0,  1,  0,  0.048 ],\n",
    "          [0,  1,  1,  0.216 ],\n",
    "          [1,  0,  0,  0.192 ],\n",
    "          [1,  0,  1,  0.064 ],\n",
    "          [1,  1,  0,  0.048 ],\n",
    "          [1,  1,  1,  0.096 ]]))\n",
    "\n",
    "# Convert P_table (which is a probability table) to a probability array, which \n",
    "# is much more computationally sensible for a discrete valued distribution\n",
    "P_abc = np.zeros((2,2,2))\n",
    "for entry in P_table:\n",
    "    a = int(entry[0])\n",
    "    b = int(entry[1])\n",
    "    c = int(entry[2])\n",
    "    P = entry[3]\n",
    "    P_abc[a,b,c] = P"
   ]
  },
  {
   "cell_type": "markdown",
   "metadata": {},
   "source": [
    "Note that you may want to use the following functions to help you in the following problem:"
   ]
  },
  {
   "cell_type": "code",
   "execution_count": 14,
   "metadata": {},
   "outputs": [],
   "source": [
    "def marginalize(P,variables_to_marginalize=(),keepdims=True):\n",
    "    \"\"\" Marginalize a probability table, i.e. compute P(a,b) = sum_c P(a,b,c) \n",
    "    \n",
    "        Arguments: \n",
    "        \n",
    "        P (array) -> a probability array in which the dimensions correspond to random variables,\n",
    "                     the indices to variable values, and the entries to probabilities\n",
    "        variables_to_marginalize (tuple) -> a list of integers containing the \n",
    "                                    variable numbers to marginalize over\n",
    "        keepdims (boolean) -> Marginalization reduces the dimensionality of the distribution.  keepdims=False\n",
    "                       removes that dimension from the array indexing scheme.  For example P(a,b,c) has\n",
    "                       an array that is 2x2x2.  If we marginalize over variable/index 1 (aka b), then the \n",
    "                       resulting array P(a,c) is 2x2 if keepdims=False (which may change the index of a \n",
    "                       given variable.  For example, after marginalizing, variable/index 1 is now c).  \n",
    "                       Conversely, the array becomes 2x1x2 if keepdims=True.\n",
    "    \n",
    "    \"\"\"\n",
    "    # Sum over the axes given in variables_to_marginalize\n",
    "    return np.sum(P,axis=variables_to_marginalize,keepdims=keepdims)\n",
    "\n",
    "def condition(P,variables_to_condition=()):\n",
    "    \"\"\" Condition a probability table, i.e. compute P(a|c) = P(a,c)/P(c) \n",
    "    \n",
    "        Arguments: \n",
    "        \n",
    "        P (array) -> a probability array in which the dimensions correspond to random variables,\n",
    "                     the indices to variable values, and the entries to probabilities\n",
    "        variables_to_condition (tuple) -> a list of integers containing the variables to condition on\n",
    "        \n",
    "        NOTE: This function always returns an array that is the same size as the input.  However, this array\n",
    "        no longer sums to one as does an unconditioned joint distribution.  Instead, it sums to one only given\n",
    "        a particular value of the conditioned variable/index.  For example:\n",
    "        \n",
    "        P_abc.sum()==1 -> True\n",
    "        P_ab_given_c = condition(P_abc,variables_to_condition=(2,))\n",
    "        P_ab_given_c.sum()==1 -> False\n",
    "        P_ab_given_c[:,:,0].sum()==1 -> True\n",
    "        P_ab_given_c[:,:,1].sum()==1 -> True\n",
    "   \n",
    "    \"\"\"\n",
    "    # find the variables to marginalize over to get the marginal distribuion of the\n",
    "    # variables that we wish to condition on\n",
    "    v_to_m = list(range(P.ndim))\n",
    "    for v in variables_to_condition:\n",
    "        v_to_m.remove(v)\n",
    "    # Compute the conditional by dividing the input by the output\n",
    "    return P/marginalize(P,variables_to_marginalize=tuple(v_to_m),keepdims=True)\n",
    "    \n",
    "P_ab = marginalize(P_abc,variables_to_marginalize=(0,))\n",
    "P_a_given_b = condition(P_ab,variables_to_condition=(1,))"
   ]
  },
  {
   "cell_type": "markdown",
   "metadata": {},
   "source": [
    "### Joint distribution equivalency (20 pts)\n",
    "Show by direct evaluation that $P(a,b,c) = P(a)P(c|a)P(b|c)$ for all values of $a$,$b$, and $c$."
   ]
  },
  {
   "cell_type": "code",
   "execution_count": 15,
   "metadata": {},
   "outputs": [
    {
     "name": "stdout",
     "output_type": "stream",
     "text": [
      "P(a) * P(c|a) * P(b|c) = \n",
      " [[[0.192 0.144]\n",
      "  [0.048 0.216]]\n",
      "\n",
      " [[0.192 0.064]\n",
      "  [0.048 0.096]]] \n",
      "\n",
      "P(a,b,c) = \n",
      " [[[0.192 0.144]\n",
      "  [0.048 0.216]]\n",
      "\n",
      " [[0.192 0.064]\n",
      "  [0.048 0.096]]]\n"
     ]
    }
   ],
   "source": [
    "P_a = marginalize(P_abc,variables_to_marginalize = (1,2,))\n",
    "P_ac = marginalize(P_abc,variables_to_marginalize = (1,))\n",
    "P_bc = marginalize(P_abc,variables_to_marginalize = (0,))\n",
    "\n",
    "P_c_given_a = condition(P_ac,variables_to_condition=(0,))\n",
    "P_b_given_c = condition(P_bc,variables_to_condition=(2,))\n",
    "                        \n",
    "result = P_a * P_c_given_a * P_b_given_c\n",
    "                        \n",
    "print(\"P(a) * P(c|a) * P(b|c) = \\n\", result,\"\\n\\nP(a,b,c) = \\n\", P_abc)\n",
    "#np.array_equal(result, P_abc)"
   ]
  },
  {
   "cell_type": "markdown",
   "metadata": {},
   "source": [
    "### Graph Visualization (10 pts)\n",
    "\n",
    "Visualize the corresponding directed graph, either using graph software like [networkx](https://networkx.github.io/) or drawing it by hand."
   ]
  },
  {
   "cell_type": "code",
   "execution_count": 22,
   "metadata": {},
   "outputs": [
    {
     "data": {
      "image/png": "[encoded data removed]",
      "text/plain": [
       "<Figure size 432x288 with 1 Axes>"
      ]
     },
     "metadata": {
      "needs_background": "light"
     },
     "output_type": "display_data"
    }
   ],
   "source": [
    "import matplotlib.pyplot as plt\n",
    "import networkx as nx\n",
    "\n",
    "viz = nx.DiGraph()\n",
    "rvs = ['A','B','C']\n",
    "\n",
    "viz.add_nodes_from(rvs)\n",
    "\n",
    "viz.add_edges_from([('A', 'C'),('C','B')], weight=2)\n",
    "\n",
    "nx.draw_networkx(viz)\n",
    "\n",
    "plt.show()\n",
    "#I am not sure why but this graph is trending in the opposite direction as the graph I created in my shell, I have created a png of this graph as well to add to the submission"
   ]
  },
  {
   "cell_type": "markdown",
   "metadata": {},
   "source": [
    "### A Trick Question in Graphs (\\*) (10 pts)\n",
    "Plot the graph associated with\n",
    "$$\n",
    "P(A,B,C,D,E) = P(A)P(C)P(B|A,C)P(D|C)P(E|D),\n",
    "$$\n",
    "where $A,B,C,D,E \\in \\{0,1\\}$ with conditional probability tables\n",
    "\\begin{align}\n",
    "P(A=1) &= 0.3 \\nonumber \\\\\n",
    "P(C=1) &= 0.7 \\nonumber \\\\\n",
    "P(B=1|A,C) &= \\begin{cases} 0.3\\,\\mathrm{if}\\,A=0,C=0\\\\\n",
    "                          0.7\\,\\mathrm{if}\\,A=1,C=0\\\\\n",
    "                          0.1\\,\\mathrm{if}\\,A=0,C=1\\\\\n",
    "                          0.9\\,\\mathrm{if}\\,A=1,C=1 \\end{cases} \\nonumber \\\\\n",
    "P(D=1|C) &= \\begin{cases}   0.4\\,\\mathrm{if}\\,C=0\\\\\n",
    "                          0.2\\,\\mathrm{if}\\,C=1 \\end{cases} \\nonumber \\\\\n",
    "P(E=1|D) &= \\begin{cases}   0.1\\,\\mathrm{if}\\,D=0\\\\\n",
    "                          0.1\\,\\mathrm{if}\\,D=1 \\end{cases}. \\nonumber\n",
    "\\end{align}\n",
    "Compute the probability $P(A=1|E=1,C=1)$.  Be sure to think carefully about conditional independence before pulling out your calculator."
   ]
  },
  {
   "cell_type": "code",
   "execution_count": null,
   "metadata": {},
   "outputs": [],
   "source": []
  },
  {
   "cell_type": "markdown",
   "metadata": {},
   "source": [
    "## 2.Gene Sequence Clustering"
   ]
  },
  {
   "cell_type": "markdown",
   "metadata": {},
   "source": [
    "### 2a. Training a Markov model (40 pts)\n",
    "Load the file genes\\_training.p, which is available in this homework archive.  genes\\_training.p contains 2000 sequences, with each sequence $\\mathbf{s}$ consisting of 20 nucleobases $s_i \\in \\mathrm{Nu},\\; \\mathrm{Nu} = \\{A,T,G,C\\}$.  Each of these sequences is generated from one of two separate Markov processes.  The label (aka class) of the process that generated the sequence is given in the dataset. \n",
    "\n",
    "Learn the Markov model for each class given the training data.  **To do this, for each class compute the prior probability $\\mathbf{\\pi}_c$ of each nucleobase (the relative frequency of each nucleobase for each class, a vector of length 4) and the matrix of transition probabilities** \n",
    "$$\n",
    "\\mathcal{A}_{c,kj} = P(s_{i+1}=\\mathrm{Nu}_j|s_{i}=\\mathrm{Nu}_k),\n",
    "$$ \n",
    "which is a 4 by 4 matrix.  As a quick sanity check, each row of $\\mathcal{A}_c$ should sum to one.  **Using these priors and transition matrices, write a function that generates a new sequence given the class**, i.e. simulates a data point. "
   ]
  },
  {
   "cell_type": "code",
   "execution_count": 23,
   "metadata": {},
   "outputs": [
    {
     "ename": "UnpicklingError",
     "evalue": "the STRING opcode argument must be quoted",
     "output_type": "error",
     "traceback": [
      "\u001b[1;31m---------------------------------------------------------------------------\u001b[0m",
      "\u001b[1;31mUnpicklingError\u001b[0m                           Traceback (most recent call last)",
      "\u001b[1;32m<ipython-input-23-0a2343d29984>\u001b[0m in \u001b[0;36m<module>\u001b[1;34m()\u001b[0m\n\u001b[0;32m      8\u001b[0m \u001b[1;33m\u001b[0m\u001b[0m\n\u001b[0;32m      9\u001b[0m \u001b[1;31m# Load the training data using pickle\u001b[0m\u001b[1;33m\u001b[0m\u001b[1;33m\u001b[0m\u001b[0m\n\u001b[1;32m---> 10\u001b[1;33m \u001b[0msequences\u001b[0m\u001b[1;33m,\u001b[0m\u001b[0mlabels\u001b[0m \u001b[1;33m=\u001b[0m \u001b[0mpickle\u001b[0m\u001b[1;33m.\u001b[0m\u001b[0mload\u001b[0m\u001b[1;33m(\u001b[0m\u001b[0mopen\u001b[0m\u001b[1;33m(\u001b[0m\u001b[1;34m'genes_training.p'\u001b[0m\u001b[1;33m,\u001b[0m\u001b[1;34m'rb'\u001b[0m\u001b[1;33m)\u001b[0m\u001b[1;33m)\u001b[0m\u001b[1;33m\u001b[0m\u001b[0m\n\u001b[0m\u001b[0;32m     11\u001b[0m \u001b[1;33m\u001b[0m\u001b[0m\n\u001b[0;32m     12\u001b[0m \u001b[1;31m# Initialize the class priors and transition matrices\u001b[0m\u001b[1;33m\u001b[0m\u001b[1;33m\u001b[0m\u001b[0m\n",
      "\u001b[1;31mUnpicklingError\u001b[0m: the STRING opcode argument must be quoted"
     ]
    }
   ],
   "source": [
    "import pickle\n",
    "import numpy as np\n",
    "\n",
    "# Define some useful constants\n",
    "N_nucleobases = 4\n",
    "N_classes = 2\n",
    "nucleobases = ['A','T','G','C']\n",
    "\n",
    "# Load the training data using pickle\n",
    "#I had to fix the pickled file due to windows being stupid, the following is a file generated after running it through the file I found to do so on the internet, the file is stored in the homework fork\n",
    "sequences,labels = pickle.load(open('genes_training_fix.p','rb'))\n",
    "\n",
    "# Initialize the class priors and transition matrices\n",
    "pi_0 = np.zeros((N_nucleobases))\n",
    "pi_1 = np.zeros((N_nucleobases))\n",
    "\n",
    "A_0 = np.zeros((N_nucleobases,N_nucleobases))\n",
    "A_1 = np.zeros((N_nucleobases,N_nucleobases))\n",
    "\n",
    "##### Train prior #####\n",
    "\n",
    "# Loop over all of the sequences and labels\n",
    "for s,l in zip(sequences,labels):\n",
    "    sequence_length = len(s)\n",
    "    for p in range(sequence_length):\n",
    "        #! s is a length 20 sequence of nucleobases.  For all s, count the number of times a given nucleobase appears\n",
    "        #! and record this information in the appropriate class prior (pi_0 or pi_1)\n",
    "        #pass\n",
    "        for i in range(N_nucleobases):\n",
    "            if s[p] == nucleobases[i]:\n",
    "                if l == 0:\n",
    "                    pi_0[i] += 1\n",
    "                else:\n",
    "                    pi_1[i] += 1\n",
    "                \n",
    "\n",
    "# Convert from counts to probabilities by normalizing\n",
    "pi_0/=pi_0.sum()\n",
    "pi_1/=pi_1.sum()\n",
    "\n",
    "##### Train transition matrix #####\n",
    "for s,l in zip(sequences,labels):\n",
    "    sequence_length = len(s)\n",
    "    for p in range(sequence_length-1):\n",
    "        #! s is a length 20 sequence of nucleoboases, for all s, count the number of times that a nucleobase \n",
    "        #! transitions to another nucleobase and record this information in the appropriate transition matrix (A_0 or A_1)\n",
    "        #pass\n",
    "        for i in range(N_nucleobases):\n",
    "            if s[p] == nucleobases[i]:\n",
    "                if l == 0:\n",
    "                    nucleoNow = [i]\n",
    "                else:\n",
    "                    nucleoNow = [i]\n",
    "            if s[p+1] == nucleobases[i]:\n",
    "                if l ==0:\n",
    "                    nucleoNext = [i]\n",
    "                else:\n",
    "                    nucleoNext = [i]\n",
    "        if l == 0:\n",
    "            A_0[nucleoNow,nucleoNext] += 1\n",
    "        else:\n",
    "            A_1[nucleoNow, nucleoNext] += 1 \n",
    "    \n",
    "# Convert from counts to probabilities by row normalization\n",
    "A_0/=A_0.sum(axis=1)[:,np.newaxis]\n",
    "A_1/=A_1.sum(axis=1)[:,np.newaxis]\n",
    "\n",
    "##### Generate a synthetic sequence #####\n",
    "def generate_new_sequence(A,pi,n=20):\n",
    "    \"\"\"  \n",
    "    Arguments:\n",
    "    A -> Nucleobase transition matrix\n",
    "    pi -> Prior\n",
    "    n -> length of sequence to generate\n",
    "    \"\"\"\n",
    "    # Draw from the prior for the first nucleobase\n",
    "    s = [np.random.choice(nucleobases,p=pi)]\n",
    "    #! Write the code that uses the transition matrix to produce a length n sample\n",
    "    for i in range(n):\n",
    "        if i == 0:\n",
    "            for j in range(N_nucleobases):\n",
    "                if s[i] == nucleobases[j]:\n",
    "                    #s.append(nextNucleobase|s[i])\n",
    "                    #Trying to figure out how to append a letter based on my 2d A array can't quite get it\n",
    "                    s.append(np.random.rand(A.shape[0])[:,None]).argmax(1)\n",
    "    return s\n",
    "print(generate_new_sequence(A_0,pi_0))"
   ]
  },
  {
   "cell_type": "markdown",
   "metadata": {},
   "source": [
    "### 2b. A Markov classifier (*) (20 pts)\n"
   ]
  },
  {
   "cell_type": "markdown",
   "metadata": {},
   "source": [
    "Having the prior and transition probabilities gives you the ability to evaluate the likelihood of a sequence for a given class as:\n",
    "$$\n",
    "P(\\mathbf{s}) = P(s_1|\\mathbf{\\pi}_c) \\prod_{i=1}^{n-1} P(s_{i+1}|s_{i},\\mathcal{A}_c),\n",
    "$$\n",
    "where $\\mathbf{\\pi}_c$ is the class-conditioned prior probability, and $\\mathcal{A}_c$ is the class-conditioned transition matrix.  Comparing the computed likelihood for a given sequence between different classes forms the basis of a classifier in a very similar manner to naive Bayes.  The difference this time is that now each random variable depends on the one before it in the sequence, whereas in naive Bayes we assumed that all the random variables were independent.    \n",
    "\n",
    "Load the file genes\\_test.p, which is similar to genes\\_training.p.  **For each sequence, compute the likelihood for both classes and assign a label.  Compare this predicted label to the known one, and report the test set accuracy**.  As a point of comparison, my implementation achieved 98.7\\% accuracy.  "
   ]
  },
  {
   "cell_type": "code",
   "execution_count": null,
   "metadata": {},
   "outputs": [],
   "source": [
    "sequences_test,labels_test = pickle.load(open('genes_test.p','rb'))\n",
    "sequence_probabilities_0 = []\n",
    "sequence_probabilities_1 = []\n",
    "\n",
    "for s in sequences_test:\n",
    "    #! Write a function that evaluates the probability of class membership for each class by multiplying the \n",
    "    #! prior by the likelihood over all symbol transitions\n"
   ]
  }
 ],
 "metadata": {
  "kernelspec": {
   "display_name": "Python 3",
   "language": "python",
   "name": "python3"
  },
  "language_info": {
   "codemirror_mode": {
    "name": "ipython",
    "version": 3
   },
   "file_extension": ".py",
   "mimetype": "text/x-python",
   "name": "python",
   "nbconvert_exporter": "python",
   "pygments_lexer": "ipython3",
   "version": "3.7.0"
  }
 },
 "nbformat": 4,
 "nbformat_minor": 2
}
